{
 "cells": [
  {
   "cell_type": "code",
   "execution_count": 1,
   "metadata": {},
   "outputs": [
    {
     "data": {
      "text/html": [
       "<img src=\"http://engineering.columbia.edu/files/engineering/vapnik.jpg\"/>"
      ],
      "text/plain": [
       "<IPython.core.display.Image object>"
      ]
     },
     "execution_count": 1,
     "metadata": {},
     "output_type": "execute_result"
    }
   ],
   "source": [
    "from IPython.display import Image\n",
    "# Here he is, in all his glory:\n",
    "Image(url='http://engineering.columbia.edu/files/engineering/vapnik.jpg')\n",
    "# Image(url='http://yann.lecun.com/ex/images/allyourbayes.jpg')"
   ]
  },
  {
   "cell_type": "code",
   "execution_count": 2,
   "metadata": {},
   "outputs": [
    {
     "name": "stdout",
     "output_type": "stream",
     "text": [
      "   survived  pclass     sex   age  sibsp  parch embarked\n",
      "0         0       3    male  22.0      1      0        S\n",
      "1         1       1  female  38.0      1      0        C\n",
      "2         1       3  female  26.0      0      0        S\n",
      "3         1       1  female  35.0      1      0        S\n",
      "4         0       3    male  35.0      0      0        S\n",
      "\n",
      "\n"
     ]
    }
   ],
   "source": [
    "### 기본 라이브러리 불러오기\n",
    "import pandas as pd\n",
    "import seaborn as sns\n",
    "\n",
    "'''\n",
    "[Step 1] 데이터 준비 - Seaborn에서 제공하는 titanic 데이터셋 가져오기\n",
    "'''\n",
    "\n",
    "# load_dataset 함수를 사용하여 데이터프레임으로 변환\n",
    "df = sns.load_dataset('titanic')\n",
    "\n",
    "# 데이터 살펴보기\n",
    "\n",
    "\n",
    "#  IPython 디스플레이 설정 - 출력할 열의 개수 한도 늘리기\n",
    "pd.set_option('display.max_columns', 15)\n",
    "\n",
    "\n",
    "\n",
    "'''\n",
    "[Step 2] 데이터 탐색\n",
    "'''\n",
    "\n",
    "# 데이터 자료형 확인\n",
    "\n",
    "\n",
    "# NaN값이 많은 deck 열을 삭제, embarked와 내용이 겹치는 embark_town 열을 삭제\n",
    "rdf = df.drop(['deck', 'embark_town'], axis=1)  \n",
    "\n",
    "\n",
    "# # age 열에 나이 데이터가 없는 모든 행을 삭제 - age 열(891개 중 177개의 NaN 값)\n",
    "# rdf = rdf.dropna(subset=['age'], how='any', axis=0)  \n",
    "# print(len(rdf))\n",
    "# print('\\n')\n",
    "\n",
    "# age 결측치 채워주기- 평균값 활용\n",
    "rdf['age'].fillna(value=rdf['age'].mean(), inplace=True)\n",
    "\n",
    "\n",
    "\n",
    "# embarked 열의 NaN값을 승선도시 중에서 가장 많이 출현한 값으로 치환하기\n",
    "most_freq = rdf['embarked'].value_counts(dropna=True).idxmax()   \n",
    "\n",
    "\n",
    "rdf['embarked'].fillna(most_freq, inplace=True)\n",
    "\n",
    "\n",
    "\n",
    "'''\n",
    "[Step 3] 분석에 사용할 속성을 선택\n",
    "'''\n",
    "\n",
    "# 분석에 활용할 열(속성)을 선택 \n",
    "ndf = rdf[['survived', 'pclass', 'sex', 'age', 'sibsp', 'parch', 'embarked']]\n",
    "print(ndf.head())   \n",
    "print('\\n')\n",
    "\n",
    "# 원핫인코딩 - 범주형 데이터를 모형이 인식할 수 있도록 숫자형으로 변환\n",
    "onehot_sex = pd.get_dummies(ndf['sex'])\n",
    "ndf = pd.concat([ndf, onehot_sex], axis=1)\n",
    "\n",
    "onehot_embarked = pd.get_dummies(ndf['embarked'], prefix='town')\n",
    "ndf = pd.concat([ndf, onehot_embarked], axis=1)\n",
    "\n",
    "ndf.drop(['sex', 'embarked','female','town_S'], axis=1, inplace=True)\n",
    "\n",
    "\n",
    "\n",
    "'''\n",
    "[Step 4] 데이터셋 구분 - 훈련용(train data)/ 검증용(test data)\n",
    "'''\n",
    "\n",
    "# 속성(변수) 선택\n",
    "X=ndf[['pclass', 'age', 'sibsp', 'parch', 'male', \n",
    "       'town_C', 'town_Q']]  #독립 변수 X\n",
    "y=ndf['survived']                      #종속 변수 Y\n",
    "\n",
    "# 설명 변수 데이터를 정규화(normalization)\n",
    "from sklearn import preprocessing\n",
    "X = preprocessing.StandardScaler().fit(X).transform(X)\n",
    "\n",
    "# train data 와 test data로 구분(7:3 비율)\n",
    "from sklearn.model_selection import train_test_split\n",
    "X_train, X_test, y_train, y_test = train_test_split(X, y, test_size=0.3, random_state=10) \n",
    "\n",
    "\n"
   ]
  },
  {
   "cell_type": "code",
   "execution_count": 3,
   "metadata": {},
   "outputs": [
    {
     "data": {
      "text/plain": [
       "array([[ 0.82737724, -0.5924806 ,  0.43279337, ...,  0.73769513,\n",
       "        -0.48204268, -0.30756234],\n",
       "       [-1.56610693,  0.63878901,  0.43279337, ..., -1.35557354,\n",
       "         2.0745051 , -0.30756234],\n",
       "       [ 0.82737724, -0.2846632 , -0.4745452 , ..., -1.35557354,\n",
       "        -0.48204268, -0.30756234],\n",
       "       ...,\n",
       "       [ 0.82737724,  0.        ,  0.43279337, ..., -1.35557354,\n",
       "        -0.48204268, -0.30756234],\n",
       "       [-1.56610693, -0.2846632 , -0.4745452 , ...,  0.73769513,\n",
       "         2.0745051 , -0.30756234],\n",
       "       [ 0.82737724,  0.17706291, -0.4745452 , ...,  0.73769513,\n",
       "        -0.48204268,  3.25137334]])"
      ]
     },
     "execution_count": 3,
     "metadata": {},
     "output_type": "execute_result"
    }
   ],
   "source": [
    "X"
   ]
  },
  {
   "cell_type": "code",
<<<<<<< HEAD
   "execution_count": 47,
=======
   "execution_count": 4,
>>>>>>> 0834a68dac347aaa4d07e1644f79f017e397a491
   "metadata": {},
   "outputs": [
    {
     "name": "stdout",
     "output_type": "stream",
     "text": [
      "Test accuracy: 0.8059701492537313\n",
      "[[151  23]\n",
      " [ 29  65]]\n",
      "              precision    recall  f1-score   support\n",
      "\n",
      "           0       0.84      0.87      0.85       174\n",
      "           1       0.74      0.69      0.71        94\n",
      "\n",
      "    accuracy                           0.81       268\n",
      "   macro avg       0.79      0.78      0.78       268\n",
      "weighted avg       0.80      0.81      0.80       268\n",
      "\n"
     ]
    }
   ],
   "source": [
    "# lets investigate SVMs on the data and play with the parameters and kernels\n",
    "from sklearn.svm import SVC\n",
    "from sklearn import metrics as mt\n",
    "\n",
    "# train the model just as before\n",
    "model_svm = SVC(C=0.5, kernel='linear', degree=3, gamma='auto') # get object\n",
    "model_svm.fit(X_train, y_train)  # train object\n",
    "\n",
    "y_hat = model_svm.predict(X_test) # get test set precitions\n",
    "\n",
    "acc = mt.accuracy_score(y_test,y_hat)\n",
    "conf = mt.confusion_matrix(y_test,y_hat)\n",
    "print('Test accuracy:', acc )\n",
    "print(conf)\n",
    "\n",
    "# 모형 성능 평가 - 평가지표 계산\n",
    "svm_report = mt.classification_report(y_test, y_hat)            \n",
    "print(svm_report)"
   ]
  },
  {
   "cell_type": "code",
<<<<<<< HEAD
   "execution_count": 48,
=======
   "execution_count": 5,
>>>>>>> 0834a68dac347aaa4d07e1644f79f017e397a491
   "metadata": {},
   "outputs": [
    {
     "name": "stdout",
     "output_type": "stream",
     "text": [
      "[[-1.25875567e-03 -6.68697191e-04 -2.62892580e-03 -3.83465861e-04\n",
      "  -9.55608534e-01  5.50802970e-04  1.33945604e-04]]\n"
     ]
    },
    {
     "data": {
      "text/plain": [
<<<<<<< HEAD
       "<matplotlib.axes._subplots.AxesSubplot at 0x27cf4799048>"
      ]
     },
     "execution_count": 48,
=======
       "<matplotlib.axes._subplots.AxesSubplot at 0x1d634978898>"
      ]
     },
     "execution_count": 5,
>>>>>>> 0834a68dac347aaa4d07e1644f79f017e397a491
     "metadata": {},
     "output_type": "execute_result"
    },
    {
     "data": {
      "image/png": "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\n",
      "text/plain": [
       "<Figure size 432x288 with 1 Axes>"
      ]
     },
     "metadata": {
      "needs_background": "light"
     },
     "output_type": "display_data"
    }
   ],
   "source": [
    "# if using linear kernel, these make sense to look at (not otherwise, why?)\n",
    "\n",
    "ndf_= ndf[['pclass', 'age', 'sibsp', 'parch', 'male', \n",
    "       'town_C', 'town_Q']]\n",
    "\n",
    "print(model_svm.coef_)\n",
    "weights = pd.Series(model_svm.coef_[0],index=ndf_.columns)\n",
    "weights.plot(kind='bar')"
   ]
  },
  {
   "cell_type": "code",
   "execution_count": 12,
   "metadata": {},
   "outputs": [
    {
     "name": "stdout",
     "output_type": "stream",
     "text": [
      "[0 1 0]\n"
     ]
    }
   ],
   "source": [
    "# svm 예측하기\n",
    "from sklearn.preprocessing import StandardScaler\n",
    "scaler = StandardScaler()\n",
    "\n",
    "import numpy as np\n",
    "jack = np.array([3,20,0,0,1,0,0])\n",
    "rose = np.array([1,17,2,2,0,0,0])\n",
    "me =   np.array([1,39,0,0,1,0,0])\n",
    "\n",
    "sample = np.array([jack, rose, me])\n",
    "\n",
    "sample = preprocessing.StandardScaler().fit(sample).transform(sample)\n",
    "\n",
    "print(model_svm.predict(sample))\n",
    "\n"
   ]
  },
  {
   "cell_type": "code",
   "execution_count": null,
   "metadata": {},
   "outputs": [],
   "source": []
  }
 ],
 "metadata": {
  "kernelspec": {
   "display_name": "Python 3",
   "language": "python",
   "name": "python3"
  },
  "language_info": {
   "codemirror_mode": {
    "name": "ipython",
    "version": 3
   },
   "file_extension": ".py",
   "mimetype": "text/x-python",
   "name": "python",
   "nbconvert_exporter": "python",
   "pygments_lexer": "ipython3",
   "version": "3.7.3"
  }
 },
 "nbformat": 4,
 "nbformat_minor": 2
}
