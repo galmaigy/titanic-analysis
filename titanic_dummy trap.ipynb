{
 "cells": [
  {
   "cell_type": "code",
   "execution_count": 43,
   "metadata": {},
   "outputs": [
    {
     "name": "stdout",
     "output_type": "stream",
     "text": [
      "   survived  pclass     sex   age  sibsp  parch     fare embarked  class  \\\n",
      "0         0       3    male  22.0      1      0   7.2500        S  Third   \n",
      "1         1       1  female  38.0      1      0  71.2833        C  First   \n",
      "2         1       3  female  26.0      0      0   7.9250        S  Third   \n",
      "3         1       1  female  35.0      1      0  53.1000        S  First   \n",
      "4         0       3    male  35.0      0      0   8.0500        S  Third   \n",
      "\n",
      "     who  adult_male deck  embark_town alive  alone  \n",
      "0    man        True  NaN  Southampton    no  False  \n",
      "1  woman       False    C    Cherbourg   yes  False  \n",
      "2  woman       False  NaN  Southampton   yes   True  \n",
      "3  woman       False    C  Southampton   yes  False  \n",
      "4    man        True  NaN  Southampton    no   True  \n",
      "\n",
      "\n",
      "   survived  pclass     sex   age  sibsp  parch     fare embarked  class  \\\n",
      "0         0       3    male  22.0      1      0   7.2500        S  Third   \n",
      "1         1       1  female  38.0      1      0  71.2833        C  First   \n",
      "2         1       3  female  26.0      0      0   7.9250        S  Third   \n",
      "3         1       1  female  35.0      1      0  53.1000        S  First   \n",
      "4         0       3    male  35.0      0      0   8.0500        S  Third   \n",
      "\n",
      "     who  adult_male deck  embark_town alive  alone  \n",
      "0    man        True  NaN  Southampton    no  False  \n",
      "1  woman       False    C    Cherbourg   yes  False  \n",
      "2  woman       False  NaN  Southampton   yes   True  \n",
      "3  woman       False    C  Southampton   yes  False  \n",
      "4    man        True  NaN  Southampton    no   True  \n",
      "\n",
      "\n",
      "<class 'pandas.core.frame.DataFrame'>\n",
      "RangeIndex: 891 entries, 0 to 890\n",
      "Data columns (total 15 columns):\n",
      "survived       891 non-null int64\n",
      "pclass         891 non-null int64\n",
      "sex            891 non-null object\n",
      "age            714 non-null float64\n",
      "sibsp          891 non-null int64\n",
      "parch          891 non-null int64\n",
      "fare           891 non-null float64\n",
      "embarked       889 non-null object\n",
      "class          891 non-null category\n",
      "who            891 non-null object\n",
      "adult_male     891 non-null bool\n",
      "deck           203 non-null category\n",
      "embark_town    889 non-null object\n",
      "alive          891 non-null object\n",
      "alone          891 non-null bool\n",
      "dtypes: bool(2), category(2), float64(2), int64(4), object(5)\n",
      "memory usage: 80.6+ KB\n",
      "None\n",
      "\n",
      "\n",
      "['survived' 'pclass' 'sex' 'age' 'sibsp' 'parch' 'fare' 'embarked' 'class'\n",
      " 'who' 'adult_male' 'alive' 'alone']\n",
      "\n",
      "\n",
      "S\n",
      "\n",
      "\n",
      "          survived      pclass   sex         age       sibsp       parch  \\\n",
      "count   891.000000  891.000000   891  891.000000  891.000000  891.000000   \n",
      "unique         NaN         NaN     2         NaN         NaN         NaN   \n",
      "top            NaN         NaN  male         NaN         NaN         NaN   \n",
      "freq           NaN         NaN   577         NaN         NaN         NaN   \n",
      "mean      0.383838    2.308642   NaN   29.699118    0.523008    0.381594   \n",
      "std       0.486592    0.836071   NaN   13.002015    1.102743    0.806057   \n",
      "min       0.000000    1.000000   NaN    0.420000    0.000000    0.000000   \n",
      "25%       0.000000    2.000000   NaN   22.000000    0.000000    0.000000   \n",
      "50%       0.000000    3.000000   NaN   29.699118    0.000000    0.000000   \n",
      "75%       1.000000    3.000000   NaN   35.000000    1.000000    0.000000   \n",
      "max       1.000000    3.000000   NaN   80.000000    8.000000    6.000000   \n",
      "\n",
      "              fare embarked  class  who adult_male alive alone  \n",
      "count   891.000000      889    891  891        891   891   891  \n",
      "unique         NaN        3      3    3          2     2     2  \n",
      "top            NaN        S  Third  man       True    no  True  \n",
      "freq           NaN      644    491  537        537   549   537  \n",
      "mean     32.204208      NaN    NaN  NaN        NaN   NaN   NaN  \n",
      "std      49.693429      NaN    NaN  NaN        NaN   NaN   NaN  \n",
      "min       0.000000      NaN    NaN  NaN        NaN   NaN   NaN  \n",
      "25%       7.910400      NaN    NaN  NaN        NaN   NaN   NaN  \n",
      "50%      14.454200      NaN    NaN  NaN        NaN   NaN   NaN  \n",
      "75%      31.000000      NaN    NaN  NaN        NaN   NaN   NaN  \n",
      "max     512.329200      NaN    NaN  NaN        NaN   NaN   NaN  \n",
      "\n",
      "\n",
      "   survived  pclass     sex   age  sibsp  parch embarked\n",
      "0         0       3    male  22.0      1      0        S\n",
      "1         1       1  female  38.0      1      0        C\n",
      "2         1       3  female  26.0      0      0        S\n",
      "3         1       1  female  35.0      1      0        S\n",
      "4         0       3    male  35.0      0      0        S\n",
      "\n",
      "\n",
      "   survived  pclass   age  sibsp  parch  male  town_C  town_Q\n",
      "0         0       3  22.0      1      0     1       0       0\n",
      "1         1       1  38.0      1      0     0       1       0\n",
      "2         1       3  26.0      0      0     0       0       0\n",
      "3         1       1  35.0      1      0     0       0       0\n",
      "4         0       3  35.0      0      0     1       0       0\n",
      "\n",
      "\n",
      "train data 개수:  (623, 7)\n",
      "test data 개수:  (268, 7)\n"
     ]
    }
   ],
   "source": [
    "### 기본 라이브러리 불러오기\n",
    "import pandas as pd\n",
    "import seaborn as sns\n",
    "\n",
    "'''\n",
    "[Step 1] 데이터 준비 - Seaborn에서 제공하는 titanic 데이터셋 가져오기\n",
    "'''\n",
    "\n",
    "# load_dataset 함수를 사용하여 데이터프레임으로 변환\n",
    "df = sns.load_dataset('titanic')\n",
    "\n",
    "# 데이터 살펴보기\n",
    "print(df.head())   \n",
    "print('\\n')\n",
    "\n",
    "#  IPython 디스플레이 설정 - 출력할 열의 개수 한도 늘리기\n",
    "pd.set_option('display.max_columns', 15)\n",
    "print(df.head())   \n",
    "print('\\n')\n",
    "\n",
    "\n",
    "'''\n",
    "[Step 2] 데이터 탐색\n",
    "'''\n",
    "\n",
    "# 데이터 자료형 확인\n",
    "print(df.info())  \n",
    "print('\\n')\n",
    "\n",
    "# NaN값이 많은 deck 열을 삭제, embarked와 내용이 겹치는 embark_town 열을 삭제\n",
    "rdf = df.drop(['deck', 'embark_town'], axis=1)  \n",
    "print(rdf.columns.values)\n",
    "print('\\n')\n",
    "\n",
    "# # age 열에 나이 데이터가 없는 모든 행을 삭제 - age 열(891개 중 177개의 NaN 값)\n",
    "# rdf = rdf.dropna(subset=['age'], how='any', axis=0)  \n",
    "# print(len(rdf))\n",
    "# print('\\n')\n",
    "\n",
    "# age 결측치 채워주기- 평균값 활용\n",
    "rdf['age'].fillna(value=rdf['age'].mean(), inplace=True)\n",
    "\n",
    "\n",
    "\n",
    "# embarked 열의 NaN값을 승선도시 중에서 가장 많이 출현한 값으로 치환하기\n",
    "most_freq = rdf['embarked'].value_counts(dropna=True).idxmax()   \n",
    "print(most_freq)\n",
    "print('\\n')\n",
    "\n",
    "print(rdf.describe(include='all'))\n",
    "print('\\n')\n",
    "\n",
    "rdf['embarked'].fillna(most_freq, inplace=True)\n",
    "\n",
    "\n",
    "\n",
    "'''\n",
    "[Step 3] 분석에 사용할 속성을 선택\n",
    "'''\n",
    "\n",
    "# 분석에 활용할 열(속성)을 선택 \n",
    "ndf = rdf[['survived', 'pclass', 'sex', 'age', 'sibsp', 'parch', 'embarked']]\n",
    "print(ndf.head())   \n",
    "print('\\n')\n",
    "\n",
    "# 원핫인코딩 - 범주형 데이터를 모형이 인식할 수 있도록 숫자형으로 변환\n",
    "onehot_sex = pd.get_dummies(ndf['sex'])\n",
    "ndf = pd.concat([ndf, onehot_sex], axis=1)\n",
    "\n",
    "onehot_embarked = pd.get_dummies(ndf['embarked'], prefix='town')\n",
    "ndf = pd.concat([ndf, onehot_embarked], axis=1)\n",
    "\n",
    "ndf.drop(['sex', 'embarked','female','town_S'], axis=1, inplace=True)\n",
    "print(ndf.head())   \n",
    "print('\\n')\n",
    "\n",
    "\n",
    "'''\n",
    "[Step 4] 데이터셋 구분 - 훈련용(train data)/ 검증용(test data)\n",
    "'''\n",
    "\n",
    "# 속성(변수) 선택\n",
    "X=ndf[['pclass', 'age', 'sibsp', 'parch', 'male', \n",
    "       'town_C', 'town_Q']]  #독립 변수 X\n",
    "y=ndf['survived']                      #종속 변수 Y\n",
    "\n",
    "# 설명 변수 데이터를 정규화(normalization)\n",
    "from sklearn import preprocessing\n",
    "X = preprocessing.StandardScaler().fit(X).transform(X)\n",
    "\n",
    "# train data 와 test data로 구분(7:3 비율)\n",
    "from sklearn.model_selection import train_test_split\n",
    "X_train, X_test, y_train, y_test = train_test_split(X, y, test_size=0.3, random_state=10) \n",
    "\n",
    "print('train data 개수: ', X_train.shape)\n",
    "print('test data 개수: ', X_test.shape)\n"
   ]
  },
  {
   "cell_type": "code",
   "execution_count": 44,
   "metadata": {},
   "outputs": [
    {
     "name": "stdout",
     "output_type": "stream",
     "text": [
      "<class 'pandas.core.frame.DataFrame'>\n",
      "RangeIndex: 891 entries, 0 to 890\n",
      "Data columns (total 13 columns):\n",
      "survived      891 non-null int64\n",
      "pclass        891 non-null int64\n",
      "sex           891 non-null object\n",
      "age           891 non-null float64\n",
      "sibsp         891 non-null int64\n",
      "parch         891 non-null int64\n",
      "fare          891 non-null float64\n",
      "embarked      891 non-null object\n",
      "class         891 non-null category\n",
      "who           891 non-null object\n",
      "adult_male    891 non-null bool\n",
      "alive         891 non-null object\n",
      "alone         891 non-null bool\n",
      "dtypes: bool(2), category(1), float64(2), int64(4), object(4)\n",
      "memory usage: 72.4+ KB\n"
     ]
    }
   ],
   "source": [
    "rdf.info()"
   ]
  },
  {
   "cell_type": "code",
   "execution_count": 45,
   "metadata": {},
   "outputs": [
    {
     "name": "stdout",
     "output_type": "stream",
     "text": [
      "0.8009630818619583\n",
      "0.8097014925373134\n"
     ]
    }
   ],
   "source": [
    "# run logistic regression and vary some parameters\n",
    "from sklearn.linear_model import LogisticRegression\n",
    "from sklearn import metrics as mt\n",
    "\n",
    "model_logit=LogisticRegression()\n",
    "model_logit.fit(X_train, y_train)\n",
    "\n",
    "# train score\n",
    "print(model_logit.score(X_train, y_train))\n",
    "\n",
    "# test score\n",
    "print(model_logit.score(X_test, y_test))\n",
    "\n",
    "# 하기와 같이도 할 수 있음. 2가지 방법으로. "
   ]
  },
  {
   "cell_type": "code",
   "execution_count": 46,
   "metadata": {},
   "outputs": [
    {
     "name": "stdout",
     "output_type": "stream",
     "text": [
      "accuracy 0.8097014925373134\n",
      "confusion matrix\n",
      " [[151  23]\n",
      " [ 28  66]]\n",
      "              precision    recall  f1-score   support\n",
      "\n",
      "           0       0.84      0.87      0.86       174\n",
      "           1       0.74      0.70      0.72        94\n",
      "\n",
      "    accuracy                           0.81       268\n",
      "   macro avg       0.79      0.78      0.79       268\n",
      "weighted avg       0.81      0.81      0.81       268\n",
      "\n"
     ]
    }
   ],
   "source": [
    "y_hat = model_logit.predict(X_test) # get test set precitions\n",
    "\n",
    "\n",
    "# now let's get the accuracy and confusion matrix for this iterations of training/testing\n",
    "acc = mt.accuracy_score(y_test,y_hat)\n",
    "conf = mt.confusion_matrix(y_test,y_hat)\n",
    "\n",
    "print(\"accuracy\", acc )\n",
    "print(\"confusion matrix\\n\",conf)\n",
    "\n",
    "# 모형 성능 평가 - 평가지표 계산\n",
    "logit_report = mt.classification_report(y_test, y_hat)            \n",
    "print(logit_report)"
   ]
  },
  {
   "cell_type": "code",
   "execution_count": 47,
   "metadata": {},
   "outputs": [
    {
     "name": "stdout",
     "output_type": "stream",
     "text": [
      "pclass has weight of -0.8285263959774197\n",
      "age has weight of -0.35508433937907224\n",
      "sibsp has weight of -0.5306813908623885\n",
      "parch has weight of -0.07726120164773634\n",
      "male has weight of -1.3016535657292578\n",
      "town_C has weight of 0.27328435997091766\n",
      "town_Q has weight of 0.14315312537748726\n"
     ]
    }
   ],
   "source": [
    "# interpret the weights\n",
    "ndf_= ndf[['pclass', 'age', 'sibsp', 'parch', 'male', \n",
    "       'town_C', 'town_Q']]\n",
    "\n",
    "\n",
    "# iterate over the coefficients\n",
    "weights = model_logit.coef_.T # take transpose to make a column vector\n",
    "variable_names = ndf_.columns\n",
    "for coef, name in zip(weights,variable_names):\n",
    "    print(name, 'has weight of', coef[0])\n",
    "    \n",
    "    \n",
    "# does this look correct? "
   ]
  },
  {
   "cell_type": "code",
   "execution_count": 48,
   "metadata": {},
   "outputs": [
    {
     "data": {
      "image/png": "[encoded data removed]",
      "text/plain": [
       "<Figure size 432x288 with 1 Axes>"
      ]
     },
     "metadata": {},
     "output_type": "display_data"
    }
   ],
   "source": [
    "# now let's make a pandas Series with the names and values, and plot them\n",
    "from matplotlib import pyplot as plt\n",
    "%matplotlib inline\n",
    "plt.style.use('ggplot')\n",
    "\n",
    "\n",
    "weights = pd.Series(model_logit.coef_[0],index=ndf_.columns)\n",
    "weights.plot(kind='bar')\n",
    "plt.show()"
   ]
  },
  {
   "cell_type": "code",
   "execution_count": null,
   "metadata": {},
   "outputs": [],
   "source": []
  },
  {
   "cell_type": "code",
   "execution_count": 49,
   "metadata": {},
   "outputs": [
    {
     "name": "stdout",
     "output_type": "stream",
     "text": [
      "-- when  pclass  is increased by 1 unit, likelihood of survival is increased by -56.33 %\n",
      "-- when  age  is increased by 1 unit, likelihood of survival is increased by -29.89 %\n",
      "-- when  sibsp  is increased by 1 unit, likelihood of survival is increased by -41.18 %\n",
      "-- when  parch  is increased by 1 unit, likelihood of survival is increased by -7.44 %\n",
      "-- when  male  is increased by 1 unit, likelihood of survival is increased by -72.79 %\n",
      "-- when  town_C  is increased by 1 unit, likelihood of survival is increased by 31.43 %\n",
      "-- when  town_Q  is increased by 1 unit, likelihood of survival is increased by 15.39 %\n"
     ]
    }
   ],
   "source": [
    "# iterate over the coefficients\n",
    "from math import exp, expm1\n",
    "\n",
    "weights = model_logit.coef_.T # take transpose to make a column vector\n",
    "variable_names = ndf_.columns\n",
    "for coef, name in zip(weights,variable_names):\n",
    "    print('-- when ', name, ' is increased by 1 unit,','likelihood of survival is increased by', round((exp(coef)-1)*100,2),'%')"
   ]
  },
  {
   "cell_type": "code",
   "execution_count": 50,
   "metadata": {},
   "outputs": [
    {
     "name": "stdout",
     "output_type": "stream",
     "text": [
      "Liklihood of survival of woman is  267.3 % more than man.\n"
     ]
    }
   ],
   "source": [
    "# categorical feature 인 sex와 embark 경우는 해석을 달리함. \n",
    "# male round((1/(exp(-1.301)-1)*100,2)\n",
    "print('Liklihood of survival of woman is ', round((1/(exp(-1.301))-1)*100,2), '% more than man.')"
   ]
  },
  {
   "cell_type": "code",
   "execution_count": 51,
   "metadata": {},
   "outputs": [
    {
     "name": "stdout",
     "output_type": "stream",
     "text": [
      "Liklihood of survival of Town_C is  31.42 % more than form town_S.\n"
     ]
    }
   ],
   "source": [
    "# town_c\n",
    "print('Liklihood of survival of Town_C is ', round((exp(0.2732)-1)*100,2),'% more than form town_S.')"
   ]
  },
  {
   "cell_type": "markdown",
   "metadata": {},
   "source": [
    "# 예측하기\n",
    "- 새로운 데이터를 넣어서 예측해 본다. \n",
    "- jack, rose, me를 넣어보고 판단해 본다.\n",
    "- ndf[['pclass', 'age', 'sibsp', 'parch', 'male', 'town_C', 'town_Q']]"
   ]
  },
  {
   "cell_type": "code",
   "execution_count": 57,
   "metadata": {},
   "outputs": [
    {
     "name": "stdout",
     "output_type": "stream",
     "text": [
      "[0 1 0]\n"
     ]
    }
   ],
   "source": [
    "from sklearn.preprocessing import StandardScaler\n",
    "scaler = StandardScaler()\n",
    "\n",
    "import numpy as np\n",
    "jack = np.array([3,20,0,0,1,0,0])\n",
    "rose = np.array([1,17,2,2,0,0,0])\n",
    "me =   np.array([1,39,0,0,1,0,0])\n",
    "\n",
    "sample = np.array([jack, rose, me])\n",
    "\n",
    "sample = preprocessing.StandardScaler().fit(sample).transform(sample)\n",
    "\n",
    "print(model_logit.predict(sample))"
   ]
  },
  {
   "cell_type": "code",
   "execution_count": 58,
   "metadata": {},
   "outputs": [
    {
     "name": "stdout",
     "output_type": "stream",
     "text": [
      "[[0.88705228 0.11294772]\n",
      " [0.21797082 0.78202918]\n",
      " [0.73027159 0.26972841]]\n"
     ]
    }
   ],
   "source": [
    "# 확률을 보면...\n",
    "\n",
    "print(model_logit.predict_proba(sample))\n",
    "\n",
    "#나는 25%임. "
   ]
  },
  {
   "cell_type": "code",
   "execution_count": null,
   "metadata": {},
   "outputs": [],
   "source": []
  }
 ],
 "metadata": {
  "kernelspec": {
   "display_name": "Python 3",
   "language": "python",
   "name": "python3"
  },
  "language_info": {
   "codemirror_mode": {
    "name": "ipython",
    "version": 3
   },
   "file_extension": ".py",
   "mimetype": "text/x-python",
   "name": "python",
   "nbconvert_exporter": "python",
   "pygments_lexer": "ipython3",
   "version": "3.7.1"
  }
 },
 "nbformat": 4,
 "nbformat_minor": 2
}
