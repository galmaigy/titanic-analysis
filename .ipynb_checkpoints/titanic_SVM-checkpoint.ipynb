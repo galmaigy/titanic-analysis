{
 "cells": [
  {
   "cell_type": "code",
   "execution_count": 37,
   "metadata": {},
   "outputs": [
    {
     "data": {
      "text/html": [
       "<img src=\"http://engineering.columbia.edu/files/engineering/vapnik.jpg\"/>"
      ],
      "text/plain": [
       "<IPython.core.display.Image object>"
      ]
     },
     "execution_count": 37,
     "metadata": {},
     "output_type": "execute_result"
    }
   ],
   "source": [
    "from IPython.display import Image\n",
    "# Here he is, in all his glory:\n",
    "Image(url='http://engineering.columbia.edu/files/engineering/vapnik.jpg')\n",
    "# Image(url='http://yann.lecun.com/ex/images/allyourbayes.jpg')"
   ]
  },
  {
   "cell_type": "code",
   "execution_count": 1,
   "metadata": {},
   "outputs": [
    {
     "name": "stdout",
     "output_type": "stream",
     "text": [
      "   survived  pclass     sex   age  sibsp  parch embarked\n",
      "0         0       3    male  22.0      1      0        S\n",
      "1         1       1  female  38.0      1      0        C\n",
      "2         1       3  female  26.0      0      0        S\n",
      "3         1       1  female  35.0      1      0        S\n",
      "4         0       3    male  35.0      0      0        S\n",
      "\n",
      "\n"
     ]
    }
   ],
   "source": [
    "### 기본 라이브러리 불러오기\n",
    "import pandas as pd\n",
    "import seaborn as sns\n",
    "\n",
    "'''\n",
    "[Step 1] 데이터 준비 - Seaborn에서 제공하는 titanic 데이터셋 가져오기\n",
    "'''\n",
    "\n",
    "# load_dataset 함수를 사용하여 데이터프레임으로 변환\n",
    "df = sns.load_dataset('titanic')\n",
    "\n",
    "# 데이터 살펴보기\n",
    "\n",
    "\n",
    "#  IPython 디스플레이 설정 - 출력할 열의 개수 한도 늘리기\n",
    "pd.set_option('display.max_columns', 15)\n",
    "\n",
    "\n",
    "\n",
    "'''\n",
    "[Step 2] 데이터 탐색\n",
    "'''\n",
    "\n",
    "# 데이터 자료형 확인\n",
    "\n",
    "\n",
    "# NaN값이 많은 deck 열을 삭제, embarked와 내용이 겹치는 embark_town 열을 삭제\n",
    "rdf = df.drop(['deck', 'embark_town'], axis=1)  \n",
    "\n",
    "\n",
    "# # age 열에 나이 데이터가 없는 모든 행을 삭제 - age 열(891개 중 177개의 NaN 값)\n",
    "# rdf = rdf.dropna(subset=['age'], how='any', axis=0)  \n",
    "# print(len(rdf))\n",
    "# print('\\n')\n",
    "\n",
    "# age 결측치 채워주기- 평균값 활용\n",
    "rdf['age'].fillna(value=rdf['age'].mean(), inplace=True)\n",
    "\n",
    "\n",
    "\n",
    "# embarked 열의 NaN값을 승선도시 중에서 가장 많이 출현한 값으로 치환하기\n",
    "most_freq = rdf['embarked'].value_counts(dropna=True).idxmax()   \n",
    "\n",
    "\n",
    "rdf['embarked'].fillna(most_freq, inplace=True)\n",
    "\n",
    "\n",
    "\n",
    "'''\n",
    "[Step 3] 분석에 사용할 속성을 선택\n",
    "'''\n",
    "\n",
    "# 분석에 활용할 열(속성)을 선택 \n",
    "ndf = rdf[['survived', 'pclass', 'sex', 'age', 'sibsp', 'parch', 'embarked']]\n",
    "print(ndf.head())   \n",
    "print('\\n')\n",
    "\n",
    "# 원핫인코딩 - 범주형 데이터를 모형이 인식할 수 있도록 숫자형으로 변환\n",
    "onehot_sex = pd.get_dummies(ndf['sex'])\n",
    "ndf = pd.concat([ndf, onehot_sex], axis=1)\n",
    "\n",
    "onehot_embarked = pd.get_dummies(ndf['embarked'], prefix='town')\n",
    "ndf = pd.concat([ndf, onehot_embarked], axis=1)\n",
    "\n",
    "ndf.drop(['sex', 'embarked','female','town_S'], axis=1, inplace=True)\n",
    "\n",
    "\n",
    "\n",
    "'''\n",
    "[Step 4] 데이터셋 구분 - 훈련용(train data)/ 검증용(test data)\n",
    "'''\n",
    "\n",
    "# 속성(변수) 선택\n",
    "X=ndf[['pclass', 'age', 'sibsp', 'parch', 'male', \n",
    "       'town_C', 'town_Q']]  #독립 변수 X\n",
    "y=ndf['survived']                      #종속 변수 Y\n",
    "\n",
    "# 설명 변수 데이터를 정규화(normalization)\n",
    "from sklearn import preprocessing\n",
    "X = preprocessing.StandardScaler().fit(X).transform(X)\n",
    "\n",
    "# train data 와 test data로 구분(7:3 비율)\n",
    "from sklearn.model_selection import train_test_split\n",
    "X_train, X_test, y_train, y_test = train_test_split(X, y, test_size=0.3, random_state=10) \n",
    "\n",
    "\n"
   ]
  },
  {
   "cell_type": "code",
   "execution_count": 4,
   "metadata": {},
   "outputs": [
    {
     "data": {
      "text/plain": [
       "array([[ 0.82737724, -0.5924806 ,  0.43279337, ...,  0.73769513,\n",
       "        -0.48204268, -0.30756234],\n",
       "       [-1.56610693,  0.63878901,  0.43279337, ..., -1.35557354,\n",
       "         2.0745051 , -0.30756234],\n",
       "       [ 0.82737724, -0.2846632 , -0.4745452 , ..., -1.35557354,\n",
       "        -0.48204268, -0.30756234],\n",
       "       ...,\n",
       "       [ 0.82737724,  0.        ,  0.43279337, ..., -1.35557354,\n",
       "        -0.48204268, -0.30756234],\n",
       "       [-1.56610693, -0.2846632 , -0.4745452 , ...,  0.73769513,\n",
       "         2.0745051 , -0.30756234],\n",
       "       [ 0.82737724,  0.17706291, -0.4745452 , ...,  0.73769513,\n",
       "        -0.48204268,  3.25137334]])"
      ]
     },
     "execution_count": 4,
     "metadata": {},
     "output_type": "execute_result"
    }
   ],
   "source": [
    "X"
   ]
  },
  {
   "cell_type": "code",
   "execution_count": 38,
   "metadata": {},
   "outputs": [
    {
     "name": "stdout",
     "output_type": "stream",
     "text": [
      "Test accuracy: 0.8059701492537313\n",
      "[[151  23]\n",
      " [ 29  65]]\n",
      "              precision    recall  f1-score   support\n",
      "\n",
      "           0       0.84      0.87      0.85       174\n",
      "           1       0.74      0.69      0.71        94\n",
      "\n",
      "    accuracy                           0.81       268\n",
      "   macro avg       0.79      0.78      0.78       268\n",
      "weighted avg       0.80      0.81      0.80       268\n",
      "\n"
     ]
    }
   ],
   "source": [
    "# lets investigate SVMs on the data and play with the parameters and kernels\n",
    "from sklearn.svm import SVC\n",
    "from sklearn import metrics as mt\n",
    "\n",
    "# train the model just as before\n",
    "model_svm = SVC(C=0.5, kernel='linear', degree=3, gamma='auto') # get object\n",
    "model_svm.fit(X_train, y_train)  # train object\n",
    "\n",
    "y_hat = model_svm.predict(X_test) # get test set precitions\n",
    "\n",
    "acc = mt.accuracy_score(y_test,y_hat)\n",
    "conf = mt.confusion_matrix(y_test,y_hat)\n",
    "print('Test accuracy:', acc )\n",
    "print(conf)\n",
    "\n",
    "# 모형 성능 평가 - 평가지표 계산\n",
    "svm_report = mt.classification_report(y_test, y_hat)            \n",
    "print(svm_report)"
   ]
  },
  {
   "cell_type": "code",
   "execution_count": 39,
   "metadata": {},
   "outputs": [
    {
     "name": "stdout",
     "output_type": "stream",
     "text": [
      "[[-1.25875567e-03 -6.68697191e-04 -2.62892580e-03 -3.83465861e-04\n",
      "  -9.55608534e-01  5.50802970e-04  1.33945604e-04]]\n"
     ]
    },
    {
     "data": {
      "text/plain": [
       "<matplotlib.axes._subplots.AxesSubplot at 0x27cf43eb6d8>"
      ]
     },
     "execution_count": 39,
     "metadata": {},
     "output_type": "execute_result"
    },
    {
     "data": {
      "image/png": "[encoded data removed]",
      "text/plain": [
       "<Figure size 432x288 with 1 Axes>"
      ]
     },
     "metadata": {
      "needs_background": "light"
     },
     "output_type": "display_data"
    }
   ],
   "source": [
    "# if using linear kernel, these make sense to look at (not otherwise, why?)\n",
    "\n",
    "ndf_= ndf[['pclass', 'age', 'sibsp', 'parch', 'male', \n",
    "       'town_C', 'town_Q']]\n",
    "\n",
    "print(model_svm.coef_)\n",
    "weights = pd.Series(model_svm.coef_[0],index=ndf_.columns)\n",
    "weights.plot(kind='bar')"
   ]
  },
  {
   "cell_type": "code",
   "execution_count": null,
   "metadata": {},
   "outputs": [],
   "source": []
  }
 ],
 "metadata": {
  "kernelspec": {
   "display_name": "Python 3",
   "language": "python",
   "name": "python3"
  },
  "language_info": {
   "codemirror_mode": {
    "name": "ipython",
    "version": 3
   },
   "file_extension": ".py",
   "mimetype": "text/x-python",
   "name": "python",
   "nbconvert_exporter": "python",
   "pygments_lexer": "ipython3",
   "version": "3.7.1"
  }
 },
 "nbformat": 4,
 "nbformat_minor": 2
}
